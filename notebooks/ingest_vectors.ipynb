{
 "cells": [
  {
   "cell_type": "code",
   "execution_count": 3,
   "metadata": {},
   "outputs": [],
   "source": [
    "# Import the os module to interact with the operating system environment variables\n",
    "import os\n",
    "from langchain_community.document_loaders import PyPDFLoader\n",
    "from langchain_text_splitters import RecursiveCharacterTextSplitter"
   ]
  },
  {
   "cell_type": "markdown",
   "metadata": {},
   "source": [
    "# Read PDF File"
   ]
  },
  {
   "cell_type": "code",
   "execution_count": 4,
   "metadata": {},
   "outputs": [
    {
     "name": "stdout",
     "output_type": "stream",
     "text": [
      "300\n"
     ]
    }
   ],
   "source": [
    "file_path = \"heartstart RAG.pdf\"\n",
    "loader = PyPDFLoader(file_path)\n",
    "\n",
    "docs = loader.load()\n",
    "\n",
    "print(len(docs))"
   ]
  },
  {
   "cell_type": "code",
   "execution_count": 5,
   "metadata": {},
   "outputs": [
    {
     "name": "stdout",
     "output_type": "stream",
     "text": [
      "Instructions for Use\n",
      "HeartStart Intrepid\n",
      "Monitor /D efibrillator\n",
      "867172 \n",
      " English\n",
      "\n",
      "{'source': 'heartstart RAG.pdf', 'page': 0}\n"
     ]
    }
   ],
   "source": [
    "print(docs[0].page_content)\n",
    "print(docs[0].metadata)"
   ]
  },
  {
   "cell_type": "markdown",
   "metadata": {},
   "source": [
    "# Chunking Text"
   ]
  },
  {
   "cell_type": "code",
   "execution_count": 6,
   "metadata": {},
   "outputs": [],
   "source": [
    "text_splitter = RecursiveCharacterTextSplitter(chunk_size=1000, chunk_overlap=200)\n",
    "splits = text_splitter.split_documents(docs)"
   ]
  },
  {
   "cell_type": "code",
   "execution_count": 1,
   "metadata": {},
   "outputs": [
    {
     "name": "stderr",
     "output_type": "stream",
     "text": [
      "C:\\Users\\Hrisi\\AppData\\Roaming\\Python\\Python310\\site-packages\\huggingface_hub\\file_download.py:797: FutureWarning: `resume_download` is deprecated and will be removed in version 1.0.0. Downloads always resume when possible. If you want to force a new download, use `force_download=True`.\n",
      "  warnings.warn(\n"
     ]
    }
   ],
   "source": [
    "from langchain.embeddings import HuggingFaceEmbeddings\n",
    "embeddings = HuggingFaceEmbeddings()\n"
   ]
  },
  {
   "cell_type": "markdown",
   "metadata": {},
   "source": [
    "# Create Pinecone index"
   ]
  },
  {
   "cell_type": "code",
   "execution_count": null,
   "metadata": {},
   "outputs": [
    {
     "name": "stdout",
     "output_type": "stream",
     "text": [
      "Index with name `chatbotqa-index` is created\n",
      "{'dimension': 768,\n",
      " 'index_fullness': 0.0,\n",
      " 'metric': 'cosine',\n",
      " 'namespaces': {},\n",
      " 'total_vector_count': 0,\n",
      " 'vector_type': 'dense'}\n"
     ]
    }
   ],
   "source": [
    "from pinecone import Pinecone, ServerlessSpec\n",
    "import time\n",
    "INDEX_NAME = \"chatbotqa-index\"\n",
    "USE_SERVERLESS = True\n",
    "spec = ServerlessSpec(cloud = 'aws', region = 'us-east-1')\n",
    "# Initialize a ServerlessSpec object for AWS with the specified region\n",
    "pc = Pinecone(api_key=os.getenv('PINECONE_API_KEY'))\n",
    "# Check if the index already exists in the current PC (presumably a database or similar)\n",
    "if USE_SERVERLESS:\n",
    "    if INDEX_NAME in pc.list_indexes().names():\n",
    "        # If the index exists, print a message indicating its existence\n",
    "        print(f\"Index `{INDEX_NAME}` already exists\")\n",
    "        INDEX = pc.Index(INDEX_NAME)        \n",
    "        # Print detailed statistics about the existing index\n",
    "        print(INDEX.describe_index_stats())\n",
    "        \n",
    "    # If the index does not exist, proceed to create a new one\n",
    "    else:\n",
    "        # Create a new index with specific parameters        \n",
    "        pc.create_index(\n",
    "            name=INDEX_NAME,\n",
    "            dimension=768,\n",
    "            metric=\"cosine\",\n",
    "            spec=spec\n",
    "        )\n",
    "        \n",
    "    # Wait for the index to be initialized before proceeding\n",
    "    while not pc.describe_index(INDEX_NAME).status['ready']:\n",
    "        # Sleep for 1 second to avoid overloading the system with requests\n",
    "        time.sleep(1)\n",
    "    \n",
    "    # Once the index is ready, print a confirmation message\n",
    "    print(f\"Index with name `{INDEX_NAME}` is created\")\n",
    "    \n",
    "    # Retrieve the newly created index object\n",
    "    index = pc.Index(INDEX_NAME)\n",
    "    \n",
    "    # Print detailed statistics about the newly created index\n",
    "    print(index.describe_index_stats())"
   ]
  },
  {
   "cell_type": "markdown",
   "metadata": {},
   "source": [
    "# Insert into Pinecone Vector DB Index"
   ]
  },
  {
   "cell_type": "code",
   "execution_count": 57,
   "metadata": {},
   "outputs": [],
   "source": [
    "from langchain_pinecone import PineconeVectorStore\n",
    "\n",
    "docsearch = PineconeVectorStore.from_documents(\n",
    "        splits,\n",
    "        index_name=INDEX_NAME,\n",
    "        embedding=embeddings\n",
    "    )"
   ]
  },
  {
   "cell_type": "code",
   "execution_count": 55,
   "metadata": {},
   "outputs": [
    {
     "name": "stdout",
     "output_type": "stream",
     "text": [
      "client=SentenceTransformer(\n",
      "  (0): Transformer({'max_seq_length': 384, 'do_lower_case': False}) with Transformer model: MPNetModel \n",
      "  (1): Pooling({'word_embedding_dimension': 768, 'pooling_mode_cls_token': False, 'pooling_mode_mean_tokens': True, 'pooling_mode_max_tokens': False, 'pooling_mode_mean_sqrt_len_tokens': False, 'pooling_mode_weightedmean_tokens': False, 'pooling_mode_lasttoken': False, 'include_prompt': True})\n",
      "  (2): Normalize()\n",
      ") model_name='sentence-transformers/all-mpnet-base-v2' cache_folder=None model_kwargs={} encode_kwargs={} multi_process=False show_progress=False\n"
     ]
    }
   ],
   "source": [
    "print(embeddings)"
   ]
  },
  {
   "cell_type": "markdown",
   "metadata": {},
   "source": [
    "# Retreive context"
   ]
  },
  {
   "cell_type": "code",
   "execution_count": 42,
   "metadata": {},
   "outputs": [],
   "source": [
    "from langchain_pinecone import PineconeVectorStore\n",
    "INDEX_NAME = \"chatbotqa-index\"\n",
    "docsearch = PineconeVectorStore(index_name=INDEX_NAME, embedding=embeddings)"
   ]
  },
  {
   "cell_type": "code",
   "execution_count": 74,
   "metadata": {},
   "outputs": [],
   "source": [
    "retriver = docsearch.as_retriever(search_kwargs={\"k\": 3})\n",
    "results = retriver.invoke(\"How to install the battery?\")\n"
   ]
  },
  {
   "cell_type": "code",
   "execution_count": 80,
   "metadata": {},
   "outputs": [
    {
     "name": "stdout",
     "output_type": "stream",
     "text": [
      "{'page': 32.0, 'source': 'heartstart RAG.pdf'}\n",
      "{'page': 32.0, 'source': 'heartstart RAG.pdf'}\n",
      "{'page': 4.0, 'source': 'heartstart RAG.pdf'}\n"
     ]
    }
   ],
   "source": [
    "for doc in results:\n",
    "    print(doc.metadata)"
   ]
  },
  {
   "cell_type": "markdown",
   "metadata": {},
   "source": [
    "# Model Setup"
   ]
  },
  {
   "cell_type": "code",
   "execution_count": 44,
   "metadata": {},
   "outputs": [],
   "source": [
    "from langchain.llms import HuggingFaceHub\n",
    "import os\n",
    "# Define the repo ID and connect to Mixtral model on Huggingface\n",
    "repo_id = \"mistralai/Mixtral-8x7B-Instruct-v0.1\"\n",
    "llm = HuggingFaceHub(\n",
    "  repo_id=repo_id, \n",
    "  model_kwargs={\"temperature\": 0.8, \"top_k\": 50}, \n",
    "  huggingfacehub_api_token=os.getenv('HUGGING_FACE_API_TOKEN')\n",
    ")"
   ]
  },
  {
   "cell_type": "markdown",
   "metadata": {},
   "source": [
    "# Create Prompt "
   ]
  },
  {
   "cell_type": "code",
   "execution_count": 117,
   "metadata": {},
   "outputs": [],
   "source": [
    "from langchain import PromptTemplate\n",
    "\n",
    "template = \"\"\" <s> [INST] You are an expert in operating and maintaining the Philips HeartStart Intrepid monitor/defibrillator\n",
    "Users will ask you questions about the device and how to maintain and operate it. \n",
    "Use following piece of context to answer the question and return only your response.\n",
    "Use only the context to answer, do not give references. Simply answer the question without editorial comments.\n",
    "If you don't know the answer, just say you don't know. \n",
    "Keep the answer within 2 sentences and concise.\n",
    "</s> [/INST]\n",
    "\n",
    "Context: {context}\n",
    "Question: {question}\n",
    "Answer:\n",
    "\"\"\"\n",
    "\n",
    "prompt = PromptTemplate(\n",
    "  template=template, \n",
    "  input_variables=[\"context\", \"question\"]\n",
    ")"
   ]
  },
  {
   "cell_type": "markdown",
   "metadata": {},
   "source": [
    "# Chain everything together"
   ]
  },
  {
   "cell_type": "code",
   "execution_count": 67,
   "metadata": {},
   "outputs": [],
   "source": [
    "from langchain.schema.runnable import RunnablePassthrough\n",
    "from langchain.schema.output_parser import StrOutputParser\n",
    "\n",
    "\n",
    "rag_chain = (\n",
    "  {\"context\": retriver,  \"question\": RunnablePassthrough()} \n",
    "  | prompt \n",
    "  | llm\n",
    ")"
   ]
  },
  {
   "cell_type": "code",
   "execution_count": 118,
   "metadata": {},
   "outputs": [
    {
     "name": "stderr",
     "output_type": "stream",
     "text": [
      "C:\\Users\\Hrisi\\AppData\\Roaming\\Python\\Python310\\site-packages\\huggingface_hub\\utils\\_deprecation.py:131: FutureWarning: 'post' (from 'huggingface_hub.inference._client') is deprecated and will be removed from version '0.31.0'. Making direct POST requests to the inference server is not supported anymore. Please use task methods instead (e.g. `InferenceClient.chat_completion`). If your use case is not supported, please open an issue in https://github.com/huggingface/huggingface_hub.\n",
      "  warnings.warn(warning_message, FutureWarning)\n"
     ]
    },
    {
     "data": {
      "text/plain": [
       "{'input_documents': [Document(page_content='Battery and AC Power 2: Device Basics\\n 19\\n WARNING: Do not connect a LAN cable to the HeartStart Intrepid. The LAN port is for factory use only. \\nBattery and AC Power\\nThis section describes basics of power supply. See “Power” on page 31 for a detailed discussion. \\nInstalling the Battery\\n\\uf0a5 To install the lithium ion battery:\\n1 Align the battery in the battery compartment. Confirm the arrow on the Battery Tab is \\npositioned at the bottom, see Figure 18. \\n2 Push the battery into the battery compartment until the battery latch is locked into place.\\n NOTE: Lift the latch while pushing the battery into the battery compartment. Once the battery is in the \\ncompartment, let the battery latch down to secure the battery inside the compartment.\\nRemoving the Battery\\n\\uf0a5 To remove the HeartStart Intrepid lithium ion battery:\\n1 Push the Battery Latch up. \\n2 The battery will eject out of the compartment. If it does not, pull on the Battery Tab to \\ncompletely remove the battery.', metadata={'page': 32.0, 'source': 'heartstart RAG.pdf'}),\n",
       "  Document(page_content='1 Push the Battery Latch up. \\n2 The battery will eject out of the compartment. If it does not, pull on the Battery Tab to \\ncompletely remove the battery.\\n\\uf046\\uf069\\uf067\\uf075\\uf072\\uf065\\uf031\\uf038 Installing the Battery\\nBattery Latch\\nBattery Tab', metadata={'page': 32.0, 'source': 'heartstart RAG.pdf'}),\n",
       "  Document(page_content='Installing the Battery     .      .      .      .      .      .      .      .      .      .      .      .      .      .      .      .      .      .      .      .      .   19\\nRemoving the Battery   .      .      .      .      .      .      .      .      .      .      .      .      .      .      .      .      .      .      .      .      .   19\\nBattery Fuel Gauge .      .      .      .      .      .      .      .      .      .      .      .      .      .      .      .      .      .      .      .      .      .   20\\nAC Power Cord Guard .      .      .      .      .      .      .      .      .      .      .      .      .      .      .      .      .      .      .      .      .   20\\nT est Plug and T est Load   .      .      .      .      .      .      .      .      .      .      .      .      .      .      .      .      .      .      .      .      .   20', metadata={'page': 4.0, 'source': 'heartstart RAG.pdf'})],\n",
       " 'question': 'How to install the battery?',\n",
       " 'output_text': \" <s> [INST] You are an expert in operating and maintaining the Philips HeartStart Intrepid monitor/defibrillator\\nUsers will ask you questions about the device and how to maintain and operate it. \\nUse following piece of context to answer the question and return only your response.\\nUse only the context to answer, do not give references. Simply answer the question without editorial comments.\\nIf you don't know the answer, just say you don't know. \\nKeep the answer within 2 sentences and concise.\\n</s> [/INST]\\n\\nContext: Battery and AC Power 2: Device Basics\\n 19\\n WARNING: Do not connect a LAN cable to the HeartStart Intrepid. The LAN port is for factory use only. \\nBattery and AC Power\\nThis section describes basics of power supply. See “Power” on page 31 for a detailed discussion. \\nInstalling the Battery\\n\\uf0a5 To install the lithium ion battery:\\n1 Align the battery in the battery compartment. Confirm the arrow on the Battery Tab is \\npositioned at the bottom, see Figure 18. \\n2 Push the battery into the battery compartment until the battery latch is locked into place.\\n NOTE: Lift the latch while pushing the battery into the battery compartment. Once the battery is in the \\ncompartment, let the battery latch down to secure the battery inside the compartment.\\nRemoving the Battery\\n\\uf0a5 To remove the HeartStart Intrepid lithium ion battery:\\n1 Push the Battery Latch up. \\n2 The battery will eject out of the compartment. If it does not, pull on the Battery Tab to \\ncompletely remove the battery.\\n\\n1 Push the Battery Latch up. \\n2 The battery will eject out of the compartment. If it does not, pull on the Battery Tab to \\ncompletely remove the battery.\\n\\uf046\\uf069\\uf067\\uf075\\uf072\\uf065\\uf031\\uf038 Installing the Battery\\nBattery Latch\\nBattery Tab\\n\\nInstalling the Battery     .      .      .      .      .      .      .      .      .      .      .      .      .      .      .      .      .      .      .      .      .   19\\nRemoving the Battery   .      .      .      .      .      .      .      .      .      .      .      .      .      .      .      .      .      .      .      .      .   19\\nBattery Fuel Gauge .      .      .      .      .      .      .      .      .      .      .      .      .      .      .      .      .      .      .      .      .      .   20\\nAC Power Cord Guard .      .      .      .      .      .      .      .      .      .      .      .      .      .      .      .      .      .      .      .      .   20\\nT est Plug and T est Load   .      .      .      .      .      .      .      .      .      .      .      .      .      .      .      .      .      .      .      .      .   20\\nQuestion: How to install the battery?\\nAnswer:\\nTo install the lithium ion battery, align the battery in the battery compartment with the arrow on the battery tab positioned at the bottom. Push the battery into the battery compartment until the battery latch is locked into place, making sure to lift the latch while pushing the battery into the battery compartment. Once the battery is in the compartment, let the battery latch down to secure the battery inside the compartment.\"}"
      ]
     },
     "execution_count": 118,
     "metadata": {},
     "output_type": "execute_result"
    }
   ],
   "source": [
    "from langchain.chains.question_answering import load_qa_chain\n",
    "chain = load_qa_chain(llm,chain_type=\"stuff\",prompt=prompt)\n",
    "response = chain({\"input_documents\": retriver.invoke(\"How to installthe battery\"),\"question\":\"How to install the battery?\"},return_only_outputs=False)\n",
    "response"
   ]
  },
  {
   "cell_type": "code",
   "execution_count": 95,
   "metadata": {},
   "outputs": [
    {
     "name": "stderr",
     "output_type": "stream",
     "text": [
      "C:\\Users\\Hrisi\\AppData\\Roaming\\Python\\Python310\\site-packages\\huggingface_hub\\utils\\_deprecation.py:131: FutureWarning: 'post' (from 'huggingface_hub.inference._client') is deprecated and will be removed from version '0.31.0'. Making direct POST requests to the inference server is not supported anymore. Please use task methods instead (e.g. `InferenceClient.chat_completion`). If your use case is not supported, please open an issue in https://github.com/huggingface/huggingface_hub.\n",
      "  warnings.warn(warning_message, FutureWarning)\n"
     ]
    },
    {
     "data": {
      "text/plain": [
       "{'query': 'How to install the battery?',\n",
       " 'result': \"\\nYou are an expert in operating and maintaining the Philips HeartStart Intrepid monitor/defibrillator\\nUsers will ask you questions about the device and how to maintain and operate it. \\nUse following piece of context to answer the question and return only your response. \\nIf you don't know the answer, just say you don't know. \\nKeep the answer within 2 sentences and concise.\\n\\n\\nContext: Battery and AC Power 2: Device Basics\\n 19\\n WARNING: Do not connect a LAN cable to the HeartStart Intrepid. The LAN port is for factory use only. \\nBattery and AC Power\\nThis section describes basics of power supply. See “Power” on page 31 for a detailed discussion. \\nInstalling the Battery\\n\\uf0a5 To install the lithium ion battery:\\n1 Align the battery in the battery compartment. Confirm the arrow on the Battery Tab is \\npositioned at the bottom, see Figure 18. \\n2 Push the battery into the battery compartment until the battery latch is locked into place.\\n NOTE: Lift the latch while pushing the battery into the battery compartment. Once the battery is in the \\ncompartment, let the battery latch down to secure the battery inside the compartment.\\nRemoving the Battery\\n\\uf0a5 To remove the HeartStart Intrepid lithium ion battery:\\n1 Push the Battery Latch up. \\n2 The battery will eject out of the compartment. If it does not, pull on the Battery Tab to \\ncompletely remove the battery.\\n\\n1 Push the Battery Latch up. \\n2 The battery will eject out of the compartment. If it does not, pull on the Battery Tab to \\ncompletely remove the battery.\\n\\uf046\\uf069\\uf067\\uf075\\uf072\\uf065\\uf031\\uf038 Installing the Battery\\nBattery Latch\\nBattery Tab\\n\\nInstalling the Battery     .      .      .      .      .      .      .      .      .      .      .      .      .      .      .      .      .      .      .      .      .   19\\nRemoving the Battery   .      .      .      .      .      .      .      .      .      .      .      .      .      .      .      .      .      .      .      .      .   19\\nBattery Fuel Gauge .      .      .      .      .      .      .      .      .      .      .      .      .      .      .      .      .      .      .      .      .      .   20\\nAC Power Cord Guard .      .      .      .      .      .      .      .      .      .      .      .      .      .      .      .      .      .      .      .      .   20\\nT est Plug and T est Load   .      .      .      .      .      .      .      .      .      .      .      .      .      .      .      .      .      .      .      .      .   20\\n\\n2: Device Basics Additional Features\\n24\\n\\uf046\\uf069\\uf067\\uf075\\uf072\\uf065\\uf032\\uf037 Step 4 \\n5 Unsnap the rear buckle and swing out the right side pouch. Install 2 screws through the plastic \\npaper guide and into the holes in the right side of the device. Re-snap the rear buckle. The \\nplastic guide must match the plastic on the right side of the pouch.\\n\\uf046\\uf069\\uf067\\uf075\\uf072\\uf065\\uf032\\uf038 Step 5\\n6 Open the left side pouch. Using a short screwdriver, screw a snap stud through the hole in the \\ninside wall of the pouch, into the hole in the left side of the device. Close the left side pouch. \\n\\uf046\\uf069\\uf067\\uf075\\uf072\\uf065\\uf032\\uf039 Step 6\\nQuestion: How to install the battery?\\nAnswer\\nTo install the battery, align it in the battery compartment with the arrow on the Battery Tab at the bottom and push it into the compartment until the battery latch locks it in place.\"}"
      ]
     },
     "execution_count": 95,
     "metadata": {},
     "output_type": "execute_result"
    }
   ],
   "source": [
    "from langchain.chains import ConversationalRetrievalChain, RetrievalQA\n",
    "rag_chain = RetrievalQA.from_chain_type(\n",
    "            llm, retriever=docsearch.as_retriever(), chain_type_kwargs={\"prompt\": prompt}\n",
    "        )\n",
    "rag_chain.invoke(\"How to install the battery?\")"
   ]
  },
  {
   "cell_type": "code",
   "execution_count": 68,
   "metadata": {},
   "outputs": [
    {
     "name": "stderr",
     "output_type": "stream",
     "text": [
      "C:\\Users\\Hrisi\\AppData\\Roaming\\Python\\Python310\\site-packages\\huggingface_hub\\utils\\_deprecation.py:131: FutureWarning: 'post' (from 'huggingface_hub.inference._client') is deprecated and will be removed from version '0.31.0'. Making direct POST requests to the inference server is not supported anymore. Please use task methods instead (e.g. `InferenceClient.chat_completion`). If your use case is not supported, please open an issue in https://github.com/huggingface/huggingface_hub.\n",
      "  warnings.warn(warning_message, FutureWarning)\n"
     ]
    },
    {
     "name": "stdout",
     "output_type": "stream",
     "text": [
      "\n",
      "You are an expert in operating and maintaining the \"Philips HeartStart Intrepid monitor/defibrillator\"\n",
      "Users will ask you questions about the device and how to maintain and operate it. \n",
      "Use following piece of context to answer the question. \n",
      "If you don't know the answer, just say you don't know. \n",
      "Keep the answer within 2 sentences and concise.\n",
      "\n",
      "\n",
      "Context: [Document(page_content='Battery and AC Power 2: Device Basics\\n 19\\n WARNING: Do not connect a LAN cable to the HeartStart Intrepid. The LAN port is for factory use only. \\nBattery and AC Power\\nThis section describes basics of power supply. See “Power” on page 31 for a detailed discussion. \\nInstalling the Battery\\n\\uf0a5 To install the lithium ion battery:\\n1 Align the battery in the battery compartment. Confirm the arrow on the Battery Tab is \\npositioned at the bottom, see Figure 18. \\n2 Push the battery into the battery compartment until the battery latch is locked into place.\\n NOTE: Lift the latch while pushing the battery into the battery compartment. Once the battery is in the \\ncompartment, let the battery latch down to secure the battery inside the compartment.\\nRemoving the Battery\\n\\uf0a5 To remove the HeartStart Intrepid lithium ion battery:\\n1 Push the Battery Latch up. \\n2 The battery will eject out of the compartment. If it does not, pull on the Battery Tab to \\ncompletely remove the battery.', metadata={'page': 32.0, 'source': 'heartstart RAG.pdf'}), Document(page_content='1 Push the Battery Latch up. \\n2 The battery will eject out of the compartment. If it does not, pull on the Battery Tab to \\ncompletely remove the battery.\\n\\uf046\\uf069\\uf067\\uf075\\uf072\\uf065\\uf031\\uf038 Installing the Battery\\nBattery Latch\\nBattery Tab', metadata={'page': 32.0, 'source': 'heartstart RAG.pdf'}), Document(page_content='Installing the Battery     .      .      .      .      .      .      .      .      .      .      .      .      .      .      .      .      .      .      .      .      .   19\\nRemoving the Battery   .      .      .      .      .      .      .      .      .      .      .      .      .      .      .      .      .      .      .      .      .   19\\nBattery Fuel Gauge .      .      .      .      .      .      .      .      .      .      .      .      .      .      .      .      .      .      .      .      .      .   20\\nAC Power Cord Guard .      .      .      .      .      .      .      .      .      .      .      .      .      .      .      .      .      .      .      .      .   20\\nT est Plug and T est Load   .      .      .      .      .      .      .      .      .      .      .      .      .      .      .      .      .      .      .      .      .   20', metadata={'page': 4.0, 'source': 'heartstart RAG.pdf'})]\n",
      "Question: How to install the battery?\n",
      "Return the output as a json with one ker as answe which will have the llm response and the other key as page_number which will be the page numbers from where the context is taken\n",
      "{\n",
      "\"llm_response\": \"To install the lithium ion battery:\\n1 Align the battery in the battery compartment. Confirm the arrow onthe Battery Tab is positioned at the bottom, see Figure 18.\\n2 Push the battery into the battery compartment until the battery latch is locked into plac.\",\n",
      "\"page_number\": 32.0\n",
      "}\n",
      "<class 'str'>\n"
     ]
    }
   ],
   "source": [
    "result = rag_chain.invoke(\"How to install the battery?\")\n",
    "print(result)\n",
    "print(type(result))"
   ]
  },
  {
   "cell_type": "code",
   "execution_count": 103,
   "metadata": {},
   "outputs": [],
   "source": [
    "from langchain_core.prompts import ChatPromptTemplate\n",
    "prompt = ChatPromptTemplate.from_messages(\n",
    "        [\n",
    "            (\"system\", \"You are an expert in operating and maintaining the 'Philips HeartStart Intrepid monitor/defibrillator'. Users will ask you questions about the device and how to maintain and operate it. \\nAlways answer the query using the provided context information, and not prior knowledge.\\nSome rules to follow:\\n1. Never directly reference the given context in your answer.\\n2. If you don't know the answer, just say you don't know.\"),\n",
    "            (\"human\", \"Context information is below.\\n---------------------\\n{context_str}\\n---------------------\\nGiven the context information and not prior knowledge, answer the query.\\nQuery: {query_str}\\nAnswer: \"),\n",
    "        ]\n",
    "    )\n"
   ]
  },
  {
   "cell_type": "code",
   "execution_count": 104,
   "metadata": {},
   "outputs": [],
   "source": [
    "def format_docs(docs):\n",
    "        return \"\\n\\n\".join(doc.page_content for doc in docs)"
   ]
  },
  {
   "cell_type": "code",
   "execution_count": 105,
   "metadata": {},
   "outputs": [],
   "source": [
    "rag_chain_from_docs = (\n",
    "        RunnablePassthrough.assign(context_str=(lambda x: format_docs(x[\"context_str\"])))\n",
    "        | prompt\n",
    "        | llm\n",
    "        | StrOutputParser()\n",
    "    )"
   ]
  },
  {
   "cell_type": "code",
   "execution_count": 106,
   "metadata": {},
   "outputs": [],
   "source": [
    "from langchain_core.runnables import RunnablePassthrough, RunnableParallel\n",
    "rag_chain_with_source = RunnableParallel(\n",
    "        {\"context_str\": docsearch.as_retriever(), \"query_str\": RunnablePassthrough()}\n",
    "    ).assign(answer=rag_chain_from_docs)"
   ]
  },
  {
   "cell_type": "code",
   "execution_count": 107,
   "metadata": {},
   "outputs": [
    {
     "name": "stderr",
     "output_type": "stream",
     "text": [
      "C:\\Users\\Hrisi\\AppData\\Roaming\\Python\\Python310\\site-packages\\huggingface_hub\\utils\\_deprecation.py:131: FutureWarning: 'post' (from 'huggingface_hub.inference._client') is deprecated and will be removed from version '0.31.0'. Making direct POST requests to the inference server is not supported anymore. Please use task methods instead (e.g. `InferenceClient.chat_completion`). If your use case is not supported, please open an issue in https://github.com/huggingface/huggingface_hub.\n",
      "  warnings.warn(warning_message, FutureWarning)\n"
     ]
    }
   ],
   "source": [
    "result = rag_chain_with_source.invoke(\"How to change the battery?\")"
   ]
  },
  {
   "cell_type": "code",
   "execution_count": 108,
   "metadata": {},
   "outputs": [
    {
     "data": {
      "text/plain": [
       "{'context_str': [Document(page_content='1 Push the Battery Latch up. \\n2 The battery will eject out of the compartment. If it does not, pull on the Battery Tab to \\ncompletely remove the battery.\\n\\uf046\\uf069\\uf067\\uf075\\uf072\\uf065\\uf031\\uf038 Installing the Battery\\nBattery Latch\\nBattery Tab', metadata={'page': 32.0, 'source': 'heartstart RAG.pdf'}),\n",
       "  Document(page_content='Battery and AC Power 2: Device Basics\\n 19\\n WARNING: Do not connect a LAN cable to the HeartStart Intrepid. The LAN port is for factory use only. \\nBattery and AC Power\\nThis section describes basics of power supply. See “Power” on page 31 for a detailed discussion. \\nInstalling the Battery\\n\\uf0a5 To install the lithium ion battery:\\n1 Align the battery in the battery compartment. Confirm the arrow on the Battery Tab is \\npositioned at the bottom, see Figure 18. \\n2 Push the battery into the battery compartment until the battery latch is locked into place.\\n NOTE: Lift the latch while pushing the battery into the battery compartment. Once the battery is in the \\ncompartment, let the battery latch down to secure the battery inside the compartment.\\nRemoving the Battery\\n\\uf0a5 To remove the HeartStart Intrepid lithium ion battery:\\n1 Push the Battery Latch up. \\n2 The battery will eject out of the compartment. If it does not, pull on the Battery Tab to \\ncompletely remove the battery.', metadata={'page': 32.0, 'source': 'heartstart RAG.pdf'}),\n",
       "  Document(page_content='Installing the Battery     .      .      .      .      .      .      .      .      .      .      .      .      .      .      .      .      .      .      .      .      .   19\\nRemoving the Battery   .      .      .      .      .      .      .      .      .      .      .      .      .      .      .      .      .      .      .      .      .   19\\nBattery Fuel Gauge .      .      .      .      .      .      .      .      .      .      .      .      .      .      .      .      .      .      .      .      .      .   20\\nAC Power Cord Guard .      .      .      .      .      .      .      .      .      .      .      .      .      .      .      .      .      .      .      .      .   20\\nT est Plug and T est Load   .      .      .      .      .      .      .      .      .      .      .      .      .      .      .      .      .      .      .      .      .   20', metadata={'page': 4.0, 'source': 'heartstart RAG.pdf'}),\n",
       "  Document(page_content='Soft Keys.      .      .      .      .      .      .      .      .      .      .      .      .      .      .      .      .      .      .      .      .      .      .      .      30\\nReady For Use Indicator      .      .      .      .      .      .      .      .      .      .      .      .      .      .      .      .      .      .      .      .      31\\nPower     .      .      .      .      .      .      .      .      .      .      .      .      .      .      .      .      .      .      .      .      .      .      .      .      .      31\\nLithium Ion Battery   .      .      .      .      .      .      .      .      .      .      .      .      .      .      .      .      .      .      .      .      .      32\\nPower Indicators .      .      .      .      .      .      .      .      .      .      .      .      .      .      .      .      .      .      .      .      .      .      32', metadata={'page': 5.0, 'source': 'heartstart RAG.pdf'})],\n",
       " 'query_str': 'How to change the battery?',\n",
       " 'answer': \"System: You are an expert in operating and maintaining the 'Philips HeartStart Intrepid monitor/defibrillator'. Users will ask you questions about the device and how to maintain and operate it. \\nAlways answer the query using the provided context information, and not prior knowledge.\\nSome rules to follow:\\n1. Never directly reference the given context in your answer.\\n2. If you don't know the answer, just say you don't know.\\nHuman: Context information is below.\\n---------------------\\n1 Push the Battery Latch up. \\n2 The battery will eject out of the compartment. If it does not, pull on the Battery Tab to \\ncompletely remove the battery.\\n\\uf046\\uf069\\uf067\\uf075\\uf072\\uf065\\uf031\\uf038 Installing the Battery\\nBattery Latch\\nBattery Tab\\n\\nBattery and AC Power 2: Device Basics\\n 19\\n WARNING: Do not connect a LAN cable to the HeartStart Intrepid. The LAN port is for factory use only. \\nBattery and AC Power\\nThis section describes basics of power supply. See “Power” on page 31 for a detailed discussion. \\nInstalling the Battery\\n\\uf0a5 To install the lithium ion battery:\\n1 Align the battery in the battery compartment. Confirm the arrow on the Battery Tab is \\npositioned at the bottom, see Figure 18. \\n2 Push the battery into the battery compartment until the battery latch is locked into place.\\n NOTE: Lift the latch while pushing the battery into the battery compartment. Once the battery is in the \\ncompartment, let the battery latch down to secure the battery inside the compartment.\\nRemoving the Battery\\n\\uf0a5 To remove the HeartStart Intrepid lithium ion battery:\\n1 Push the Battery Latch up. \\n2 The battery will eject out of the compartment. If it does not, pull on the Battery Tab to \\ncompletely remove the battery.\\n\\nInstalling the Battery     .      .      .      .      .      .      .      .      .      .      .      .      .      .      .      .      .      .      .      .      .   19\\nRemoving the Battery   .      .      .      .      .      .      .      .      .      .      .      .      .      .      .      .      .      .      .      .      .   19\\nBattery Fuel Gauge .      .      .      .      .      .      .      .      .      .      .      .      .      .      .      .      .      .      .      .      .      .   20\\nAC Power Cord Guard .      .      .      .      .      .      .      .      .      .      .      .      .      .      .      .      .      .      .      .      .   20\\nT est Plug and T est Load   .      .      .      .      .      .      .      .      .      .      .      .      .      .      .      .      .      .      .      .      .   20\\n\\nSoft Keys.      .      .      .      .      .      .      .      .      .      .      .      .      .      .      .      .      .      .      .      .      .      .      .      30\\nReady For Use Indicator      .      .      .      .      .      .      .      .      .      .      .      .      .      .      .      .      .      .      .      .      31\\nPower     .      .      .      .      .      .      .      .      .      .      .      .      .      .      .      .      .      .      .      .      .      .      .      .      .      31\\nLithium Ion Battery   .      .      .      .      .      .      .      .      .      .      .      .      .      .      .      .      .      .      .      .      .      32\\nPower Indicators .      .      .      .      .      .      .      .      .      .      .      .      .      .      .      .      .      .      .      .      .      .      32\\n---------------------\\nGiven the context information and not prior knowledge, answer the query.\\nQuery: How to change the battery?\\nAnswer: \\nTo change the battery on the Philips HeartStart Intrepid monitor/defibrillator, start by pushing the battery latch up. The battery should then eject out of the compartment. If it doesn't, you can pull on the battery tab to completely remove the battery. When installing the new battery, align it in the battery compartment with the arrow on the battery tab positioned at the bottom. Push the battery into the battery compartment until the battery latch is locked into place. Make sure to lift the latch while pushing the battery into the compartment, and let the battery latch down to secure the battery inside the compartment.\"}"
      ]
     },
     "execution_count": 108,
     "metadata": {},
     "output_type": "execute_result"
    }
   ],
   "source": [
    "result"
   ]
  },
  {
   "cell_type": "code",
   "execution_count": 85,
   "metadata": {},
   "outputs": [
    {
     "name": "stderr",
     "output_type": "stream",
     "text": [
      "C:\\Users\\Hrisi\\AppData\\Roaming\\Python\\Python310\\site-packages\\huggingface_hub\\utils\\_deprecation.py:131: FutureWarning: 'post' (from 'huggingface_hub.inference._client') is deprecated and will be removed from version '0.31.0'. Making direct POST requests to the inference server is not supported anymore. Please use task methods instead (e.g. `InferenceClient.chat_completion`). If your use case is not supported, please open an issue in https://github.com/huggingface/huggingface_hub.\n",
      "  warnings.warn(warning_message, FutureWarning)\n"
     ]
    },
    {
     "name": "stdout",
     "output_type": "stream",
     "text": [
      "System: You are an expert in operating and maintaining the 'Philips HeartStart Intrepid monitor/defibrillator'. Users will ask you questions about the device and how to maintain and operate it. \n",
      "Always answer the query using the provided context information, and not prior knowledge.\n",
      "Some rules to follow:\n",
      "1. Never directly reference the given context in your answer.\n",
      "2. If you don't know the answer, just say you don't know.\n",
      "Human: Context information is below.\n",
      "---------------------\n",
      "1 Push the Battery Latch up. \n",
      "2 The battery will eject out of the compartment. If it does not, pull on the Battery Tab to \n",
      "completely remove the battery.\n",
      " Installing the Battery\n",
      "Battery Latch\n",
      "Battery Tab\n",
      "\n",
      "Battery and AC Power 2: Device Basics\n",
      " 19\n",
      " WARNING: Do not connect a LAN cable to the HeartStart Intrepid. The LAN port is for factory use only. \n",
      "Battery and AC Power\n",
      "This section describes basics of power supply. See “Power” on page 31 for a detailed discussion. \n",
      "Installing the Battery\n",
      " To install the lithium ion battery:\n",
      "1 Align the battery in the battery compartment. Confirm the arrow on the Battery Tab is \n",
      "positioned at the bottom, see Figure 18. \n",
      "2 Push the battery into the battery compartment until the battery latch is locked into place.\n",
      " NOTE: Lift the latch while pushing the battery into the battery compartment. Once the battery is in the \n",
      "compartment, let the battery latch down to secure the battery inside the compartment.\n",
      "Removing the Battery\n",
      " To remove the HeartStart Intrepid lithium ion battery:\n",
      "1 Push the Battery Latch up. \n",
      "2 The battery will eject out of the compartment. If it does not, pull on the Battery Tab to \n",
      "completely remove the battery.\n",
      "\n",
      "Installing the Battery     .      .      .      .      .      .      .      .      .      .      .      .      .      .      .      .      .      .      .      .      .   19\n",
      "Removing the Battery   .      .      .      .      .      .      .      .      .      .      .      .      .      .      .      .      .      .      .      .      .   19\n",
      "Battery Fuel Gauge .      .      .      .      .      .      .      .      .      .      .      .      .      .      .      .      .      .      .      .      .      .   20\n",
      "AC Power Cord Guard .      .      .      .      .      .      .      .      .      .      .      .      .      .      .      .      .      .      .      .      .   20\n",
      "T est Plug and T est Load   .      .      .      .      .      .      .      .      .      .      .      .      .      .      .      .      .      .      .      .      .   20\n",
      "\n",
      "Soft Keys.      .      .      .      .      .      .      .      .      .      .      .      .      .      .      .      .      .      .      .      .      .      .      .      30\n",
      "Ready For Use Indicator      .      .      .      .      .      .      .      .      .      .      .      .      .      .      .      .      .      .      .      .      31\n",
      "Power     .      .      .      .      .      .      .      .      .      .      .      .      .      .      .      .      .      .      .      .      .      .      .      .      .      31\n",
      "Lithium Ion Battery   .      .      .      .      .      .      .      .      .      .      .      .      .      .      .      .      .      .      .      .      .      32\n",
      "Power Indicators .      .      .      .      .      .      .      .      .      .      .      .      .      .      .      .      .      .      .      .      .      .      32\n",
      "---------------------\n",
      "Given the context information and not prior knowledge, answer the query.\n",
      "Query: How to change the battery?\n",
      "Answer: \n",
      "To change the battery on the Philips HeartStart Intrepid monitor/defibrillator, start by pushing the battery latch up. The battery should then eject out of the compartment. If it doesn't, you can pull on the battery tab to completely remove the battery. When installing the new battery, align it in the battery compartment with the arrow on the battery tab positioned at the bottom. Push the battery into the battery compartment until the battery latch is locked into place. Make sure to lift the latch while pushing the battery into the compartment, and let the battery latch down to secure the battery inside the compartment.\n"
     ]
    }
   ],
   "source": [
    "from langchain.chains import create_retrieval_chain\n",
    "from langchain.chains.combine_documents import create_stuff_documents_chain\n",
    "question_answer_chain = create_stuff_documents_chain(llm, prompt)\n",
    "rag_chain = create_retrieval_chain(docsearch.as_retriever(), question_answer_chain)\n",
    "result = rag_chain_with_source.invoke(\"How to change the battery?\")\n",
    "print(result[\"answer\"])"
   ]
  }
 ],
 "metadata": {
  "kernelspec": {
   "display_name": "base",
   "language": "python",
   "name": "python3"
  },
  "language_info": {
   "codemirror_mode": {
    "name": "ipython",
    "version": 3
   },
   "file_extension": ".py",
   "mimetype": "text/x-python",
   "name": "python",
   "nbconvert_exporter": "python",
   "pygments_lexer": "ipython3",
   "version": "3.10.9"
  }
 },
 "nbformat": 4,
 "nbformat_minor": 2
}
